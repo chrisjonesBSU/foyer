{
 "cells": [
  {
   "cell_type": "code",
   "execution_count": 4,
   "id": "c5836c8c-89a9-48ab-8fa5-d18ce9b22a26",
   "metadata": {},
   "outputs": [
    {
     "name": "stderr",
     "output_type": "stream",
     "text": [
      "/home/chris/miniforge3/envs/xmls/lib/python3.12/site-packages/jupyter_client/session.py:203: DeprecationWarning: datetime.datetime.utcnow() is deprecated and scheduled for removal in a future version. Use timezone-aware objects to represent datetimes in UTC: datetime.datetime.now(datetime.UTC).\n",
      "  return datetime.utcnow().replace(tzinfo=utc)\n",
      "/home/chris/miniforge3/envs/xmls/lib/python3.12/site-packages/jupyter_client/session.py:203: DeprecationWarning: datetime.datetime.utcnow() is deprecated and scheduled for removal in a future version. Use timezone-aware objects to represent datetimes in UTC: datetime.datetime.now(datetime.UTC).\n",
      "  return datetime.utcnow().replace(tzinfo=utc)\n",
      "/home/chris/miniforge3/envs/xmls/lib/python3.12/site-packages/jupyter_client/session.py:203: DeprecationWarning: datetime.datetime.utcnow() is deprecated and scheduled for removal in a future version. Use timezone-aware objects to represent datetimes in UTC: datetime.datetime.now(datetime.UTC).\n",
      "  return datetime.utcnow().replace(tzinfo=utc)\n"
     ]
    }
   ],
   "source": [
    "import warnings\n",
    "\n",
    "warnings.filterwarnings(\"ignore\")\n",
    "\n",
    "import parmed as pmd\n",
    "from pathlib import Path\n",
    "import foyer\n",
    "import json\n",
    "\n",
    "from parmed.exceptions import MoleculeError, FormatNotFound\n",
    "from foyer.exceptions import MissingParametersError"
   ]
  },
  {
   "cell_type": "markdown",
   "id": "f2cacdb9-43a5-4e12-bd44-1978cb3ff146",
   "metadata": {},
   "source": [
    "# OPLS"
   ]
  },
  {
   "cell_type": "code",
   "execution_count": 5,
   "id": "04f3f872-c34a-4bcf-bd84-8755f49cfdd3",
   "metadata": {},
   "outputs": [],
   "source": [
    "foyer_opls = foyer.forcefield.Forcefield(name=\"oplsaa\")\n",
    "\n",
    "opls_dir = Path(\"OPLS/\")\n",
    "opls_atom_types = dict()\n",
    "opls_bond_types = dict()\n",
    "opls_angle_types = dict()\n",
    "opls_dihedral_types = dict()\n",
    "opls_improper_types = dict()\n",
    "error_files = []"
   ]
  },
  {
   "cell_type": "code",
   "execution_count": 6,
   "id": "934d6c7c-23f8-4c5e-8d9b-8966e1a64a25",
   "metadata": {},
   "outputs": [
    {
     "name": "stdout",
     "output_type": "stream",
     "text": [
      "Error: Cannot exclude an atom from itself! Atoms are: <Atom N [5]; In MOL 5> <Atom N [5]; In MOL 5>\n",
      "Error: Cannot exclude an atom from itself! Atoms are: <Atom N [12]; In MOL 0> <Atom N [12]; In MOL 0>\n",
      "Error: Cannot exclude an atom from itself! Atoms are: <Atom N [6]; In MOL 6> <Atom N [6]; In MOL 6>\n",
      "Error: invalid literal for int() with base 10: 'formamide'\n",
      "Error: Cannot exclude an atom from itself! Atoms are: <Atom N [8]; In MOL 0> <Atom N [8]; In MOL 0>\n",
      "Error: Could not identify file format\n",
      "Error: Cannot exclude an atom from itself! Atoms are: <Atom N [14]; In MOL 14> <Atom N [14]; In MOL 14>\n"
     ]
    }
   ],
   "source": [
    "for top_file in opls_dir.glob(\"*.top\"):\n",
    "    try:\n",
    "        struc = pmd.load_file(filename=str(top_file))\n",
    "        for atom in struc.atoms:\n",
    "            opls_atom_types[atom.atom_type.name] = dict(\n",
    "                sigma=atom.atom_type.sigma / 10,\n",
    "                epsilon=atom.atom_type.epsilon,\n",
    "                charge=atom.atom_type.charge,\n",
    "            )\n",
    "        for bond in struc.bonds:\n",
    "            bond_type = f\"{bond.atom1.atom_type}-{bond.atom2.atom_type}\"\n",
    "            opls_bond_types[bond_type] = dict(req=bond.type.req / 10, k=bond.type.k)\n",
    "        for angle in struc.angles:\n",
    "            angle_type = f\"{angle.atom1.atom_type}-{angle.atom2.atom_type}-{angle.atom3.atom_type}\"\n",
    "            opls_angle_types[angle_type] = dict(\n",
    "                thetaeq=angle.type.theteq, k=angle.type.k\n",
    "            )\n",
    "        for dih in struc.dihedrals:\n",
    "            dihedral_type = f\"{dih.atom1.atom_type}-{dih.atom2.atom_type}-{dih.atom3.atom_type}-{dih.atom4.atom_type}\"\n",
    "            opls_dihedral_types[dihedral_type] = dict(\n",
    "                k=dih.type.phi_k, phase=dih.type.phase\n",
    "            )\n",
    "    except (MoleculeError, ValueError, FormatNotFound) as e:\n",
    "        print(f\"Error: {e}\")\n",
    "        error_files.append(str(top_file))"
   ]
  },
  {
   "cell_type": "code",
   "execution_count": 7,
   "id": "113b69a7-dce3-4e71-96e3-d5efcb1d2fac",
   "metadata": {},
   "outputs": [],
   "source": [
    "new_atom_types = dict()\n",
    "new_bond_types = dict()\n",
    "new_angle_types = dict()\n",
    "\n",
    "for atom_type in opls_atom_types:\n",
    "    if atom_type not in foyer_opls.atomTypeDefinitions.keys():\n",
    "        new_atom_types[atom_type] = opls_atom_types[atom_type]\n",
    "\n",
    "for bond_type in opls_bond_types:\n",
    "    atom1 = bond_type.split(\"-\")[0]\n",
    "    atom2 = bond_type.split(\"-\")[1]\n",
    "    class1 = foyer_opls.atomTypeClasses[atom1]\n",
    "    class2 = foyer_opls.atomTypeClasses[atom2]\n",
    "    try:\n",
    "        bond_params = foyer_opls.get_parameters(\n",
    "            group=\"harmonic_bonds\", key=[atom1, atom2]\n",
    "        )\n",
    "    except MissingParametersError:\n",
    "        try:\n",
    "            bond_params = foyer_opls.get_parameters(\n",
    "                group=\"harmonic_bonds\", key=[class1, class2]\n",
    "            )\n",
    "        except MissingParametersError:\n",
    "            new_bond_types[bond_type] = opls_bond_types[bond_type]\n",
    "\n",
    "for angle_type in opls_angle_types:\n",
    "    atom1 = angle_type.split(\"-\")[0]\n",
    "    atom2 = angle_type.split(\"-\")[1]\n",
    "    atom3 = angle_type.split(\"-\")[2]\n",
    "    class1 = foyer_opls.atomTypeClasses[atom1]\n",
    "    class2 = foyer_opls.atomTypeClasses[atom2]\n",
    "    class3 = foyer_opls.atomTypeClasses[atom3]\n",
    "    try:\n",
    "        angle_params = foyer_opls.get_parameters(\n",
    "            group=\"harmonic_angles\", key=[atom1, atom2, atom3]\n",
    "        )\n",
    "    except MissingParametersError:\n",
    "        try:\n",
    "            angle_params = foyer_opls.get_parameters(\n",
    "                group=\"harmonic_angles\", key=[class1, class2, class3]\n",
    "            )\n",
    "        except MissingParametersError:\n",
    "            new_angle_types[angle_type] = opls_angle_types[angle_type]\n",
    "\n",
    "# for dih_type in opls_dihedral_types:\n",
    "#    atom1 = dih_type.split(\"-\")[0]\n",
    "#    atom2 = dih_type.split(\"-\")[1]\n",
    "#    atom3 = dih_type.split(\"-\")[2]\n",
    "#    atom4 = dih_type.split(\"-\")[3]\n",
    "#    class1 = foyer_opls.atomTypeClasses[atom1]\n",
    "#    class2 = foyer_opls.atomTypeClasses[atom2]\n",
    "#    class3 = foyer_opls.atomTypeClasses[atom3]\n",
    "#    class4 = foyer_opls.atomTypeClasses[atom4]\n",
    "#    try:\n",
    "#        dih_params = foyer_opls.get_parameters(group=\"harmonic_angles\", key=[atom1, atom2, atom3])\n",
    "#    except MissingParametersError:\n",
    "#        try:\n",
    "#            angle_params = foyer_opls.get_parameters(group=\"harmonic_angles\", key=[class1, class2, class3])\n",
    "#        except MissingParametersError:\n",
    "#            new_angle_types[angle_type] = opls_angle_types[angle_type]"
   ]
  },
  {
   "cell_type": "code",
   "execution_count": 9,
   "id": "cccc9d8a-6728-4fa7-b25c-5a5bc6d595ae",
   "metadata": {},
   "outputs": [],
   "source": [
    "with open(\"new_atom_types.json\", \"w\") as d:\n",
    "    json.dump(new_atom_types, d)"
   ]
  },
  {
   "cell_type": "code",
   "execution_count": null,
   "id": "8ae46101-d250-4364-932b-3ca729647130",
   "metadata": {},
   "outputs": [],
   "source": []
  }
 ],
 "metadata": {
  "kernelspec": {
   "display_name": "Python 3 (ipykernel)",
   "language": "python",
   "name": "python3"
  },
  "language_info": {
   "codemirror_mode": {
    "name": "ipython",
    "version": 3
   },
   "file_extension": ".py",
   "mimetype": "text/x-python",
   "name": "python",
   "nbconvert_exporter": "python",
   "pygments_lexer": "ipython3",
   "version": "3.12.0"
  }
 },
 "nbformat": 4,
 "nbformat_minor": 5
}
